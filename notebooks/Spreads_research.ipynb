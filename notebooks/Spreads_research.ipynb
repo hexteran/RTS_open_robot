{
 "cells": [
  {
   "cell_type": "code",
   "execution_count": null,
   "metadata": {
    "id": "0fNE8vG5Qm5V"
   },
   "outputs": [],
   "source": [
    "import requests\n",
    "import json\n",
    "import urllib\n",
    "import datetime\n",
    "import pandas as pd\n",
    "import numpy as np\n",
    "import scipy.stats\n",
    "import matplotlib.pyplot as plt\n",
    "from google.colab import drive\n",
    "import matplotlib.pyplot as plt\n",
    "import warnings\n",
    "warnings.filterwarnings('ignore')\n",
    "drive.mount('/content/gdrive')"
   ]
  },
  {
   "cell_type": "markdown",
   "metadata": {
    "id": "qgFuoeNBM-8f"
   },
   "source": [
    "# Грузим данные"
   ]
  },
  {
   "cell_type": "code",
   "execution_count": null,
   "metadata": {
    "colab": {
     "base_uri": "https://localhost:8080/"
    },
    "id": "41kJdwBnUvQd",
    "outputId": "ec62e7e6-01dc-4265-93f5-d4adc2b16b6b"
   },
   "outputs": [],
   "source": [
    "#deribit\n",
    "start_time = datetime.datetime(2021,7,6,0,0,0)\n",
    "start_time = str(int(start_time.timestamp())*1000)\n",
    "end_time = datetime.datetime(2021,7,10,0,0,0)\n",
    "end_time = str(int(end_time.timestamp())*1000)\n",
    "has_more = True\n",
    "trades = {'price':[],'timestamp':[],'time':[]}\n",
    "while has_more == True:\n",
    "  request = 'https://deribit.com/api/v2/public/get_last_trades_by_instrument_and_time?count=1000&start_timestamp='+start_time+'&end_timestamp='+end_time+'&instrument_name=BTC-24SEP21'\n",
    "  response = urllib.request.urlopen(request)\n",
    "  result = response.read()\n",
    "  has_more = json.loads(result)['result']['has_more']\n",
    "  print(has_more)\n",
    "  result = json.loads(result)['result']['trades']\n",
    "  for i in result:\n",
    "    trades['price'].append(i['price'])\n",
    "    trades['timestamp'].append(i['timestamp'])\n",
    "    trades['time'].append(pd.to_datetime(datetime.datetime.fromtimestamp(i['timestamp']/1000).strftime('%Y-%m-%d %H:%M:%S')))\n",
    "  start_time = str(np.max(trades['timestamp']))\n",
    "DERIBIT_trades = pd.DataFrame(trades)"
   ]
  },
  {
   "cell_type": "code",
   "execution_count": null,
   "metadata": {
    "colab": {
     "base_uri": "https://localhost:8080/"
    },
    "id": "rCry6p1QVJH8",
    "outputId": "8571ccd7-1e69-4e22-e953-f9571fe732ab"
   },
   "outputs": [],
   "source": [
    "#binance\n",
    "\n",
    "raw_data_0507 = pd.read_csv(\"/content/gdrive/My Drive/Quant/data/binance trades/BTCUSDT_210924-trades-2021-07-05.csv\", header = None)\n",
    "raw_data_0607 = pd.read_csv(\"/content/gdrive/My Drive/Quant/data/binance trades/BTCUSDT_210924-trades-2021-07-06.csv\", header = None)\n",
    "raw_data_0707 = pd.read_csv(\"/content/gdrive/My Drive/Quant/data/binance trades/BTCUSDT_210924-trades-2021-07-07.csv\", header = None)\n",
    "raw_data_0807 = pd.read_csv(\"/content/gdrive/My Drive/Quant/data/binance trades/BTCUSDT_210924-trades-2021-07-08.csv\", header = None)\n",
    "raw_data_0907 = pd.read_csv(\"/content/gdrive/My Drive/Quant/data/binance trades/BTCUSDT_210924-trades-2021-07-09.csv\", header = None)\n",
    "BINANCE_trades = pd.concat([raw_data_0507,raw_data_0607, raw_data_0707, raw_data_0807,raw_data_0907])[[1,4]]\n",
    "BINANCE_trades.columns = ['price','timestamp']\n",
    "time = []\n",
    "for i in range(0,len(BINANCE_trades)):\n",
    "  time.append(pd.to_datetime(datetime.datetime.fromtimestamp(BINANCE_trades['timestamp'].iloc[i]/1000).strftime('%Y-%m-%d %H:%M:%S')))\n",
    "BINANCE_trades['time']=time"
   ]
  },
  {
   "cell_type": "code",
   "execution_count": null,
   "metadata": {
    "id": "f5TDL5yrxYwx"
   },
   "outputs": [],
   "source": [
    "minutes = pd.date_range(start = '2021-07-03 00:00:00',end = '2021-07-05 00:00:00',freq = '1min')\n",
    "changes = {'time':[],'open':[],'close':[],'high':[],'low':[]}\n",
    "counter = 0\n",
    "for i in range(len(minutes)-1):\n",
    "  bsml = BINANCE_trades[(BINANCE_trades['time']>=minutes[i])&(BINANCE_trades['time']<minutes[i+1])]\n",
    "  dsml = DERIBIT_trades[(DERIBIT_trades['time']>=minutes[i])&(DERIBIT_trades['time']<minutes[i+1])]\n",
    "  j = 0\n",
    "  k = 0\n",
    "  if (len(dsml)==0 or len(bsml)==0):\n",
    "    counter+=1\n",
    "    continue\n",
    "  last_time_bsml = bsml['timestamp'].iloc[0]\n",
    "  last_time_dsml = dsml['timestamp'].iloc[0]\n",
    "\n",
    "  changes['open'].append(dsml['price'].iloc[0] - bsml['price'].iloc[0])\n",
    "  changes['time'].append(minutes[i])\n",
    "  changes['close'].append(dsml['price'].iloc[-1] - bsml['price'].iloc[-1])\n",
    "  \n",
    "  lilchan = []\n",
    "  bsml['type'] = [-1 for i in range(len(bsml))]\n",
    "  dsml['type'] = [1 for i in range(len(dsml))]\n",
    "  concated = pd.concat([bsml,dsml])\n",
    "  concated = concated.sort_values(by='timestamp')\n",
    "  k = 0\n",
    "  while concated['type'].iloc[k]==1:\n",
    "    k+=1\n",
    "  j = 0\n",
    "  while concated['type'].iloc[j]==-1:\n",
    "    j+=1\n",
    "  j=max(j,k)\n",
    "  last_a = concated.iloc[j]\n",
    "  last_b = concated.iloc[j-1]\n",
    "  lilchan.append(concated['price'].iloc[j]*concated['type'].iloc[j]+concated['price'].iloc[j-1]*concated['type'].iloc[j-1])\n",
    "  j+=1\n",
    "  \n",
    "  while(j<len(concated)):\n",
    "    if last_a['type'] == concated['type'].iloc[j]:\n",
    "      lilchan.append(lilchan[-1]-last_a['price']*last_a['type']+concated['price'].iloc[j]*concated['type'].iloc[j])\n",
    "      last_a = concated.iloc[j]\n",
    "    else:\n",
    "      lilchan.append(lilchan[-1]-last_b['price']*last_b['type']+concated['price'].iloc[j]*concated['type'].iloc[j])\n",
    "      last_b = concated.iloc[j]\n",
    "    #print(last_a['price'], last_b['price'],lilchan[-1])\n",
    "    j+=1\n",
    "  #lilchan = []\n",
    "  a = concated[concated['type']==-1]\n",
    "  b = concated[concated['type']==1] \n",
    "  changes['high'].append(max(lilchan))\n",
    "  changes['low'].append(min(lilchan))\n",
    "changes = pd.DataFrame(changes)"
   ]
  },
  {
   "cell_type": "markdown",
   "metadata": {
    "id": "yDcDqWztRqEh"
   },
   "source": [
    "# Смотрим характеристики спреда"
   ]
  },
  {
   "cell_type": "code",
   "execution_count": null,
   "metadata": {
    "id": "LFZuHvNFRt3e"
   },
   "outputs": [],
   "source": [
    "beginning = pd.to_datetime('2021-07-06 00:00:00')\n",
    "ending =   pd.to_datetime('2021-07-10 00:00:00')\n",
    "feerate = 0.001\n",
    "changes = {'timestamp':[], 'time':[], 'price':[], 'fee':[], 'prper':[]}\n",
    "counter = 0\n",
    "for i in range(0,1):#len(minutes)-1):\n",
    "  bsml = BINANCE_trades[(BINANCE_trades['time']>=beginning)&(BINANCE_trades['time']<ending)]\n",
    "  dsml = DERIBIT_trades[(DERIBIT_trades['time']>=beginning)&(DERIBIT_trades['time']<ending)]\n",
    "  j = 0\n",
    "  k = 0\n",
    "  if (len(dsml)==0 or len(bsml)==0):\n",
    "    counter+=1\n",
    "    continue\n",
    "\n",
    "  bsml['type'] = [-1 for i in range(len(bsml))]\n",
    "  dsml['type'] = [1 for i in range(len(dsml))]\n",
    "  concated = pd.concat([bsml,dsml])\n",
    "  concated = concated.sort_values(by='timestamp')\n",
    "  k = 0\n",
    "  while concated['type'].iloc[k]==1:\n",
    "    k+=1\n",
    "  j = 0\n",
    "  while concated['type'].iloc[j]==-1:\n",
    "    j+=1\n",
    "  j=max(j,k)\n",
    "\n",
    "  last_a = concated.iloc[j]\n",
    "  last_b = concated.iloc[j-1]\n",
    "\n",
    "  changes['price'].append(concated['price'].iloc[j]*concated['type'].iloc[j]+concated['price'].iloc[j-1]*concated['type'].iloc[j-1])\n",
    "  changes['time'].append(pd.to_datetime(concated['time'].iloc[j]))\n",
    "  changes['timestamp'].append(concated['timestamp'].iloc[j])\n",
    "  changes['fee'].append((concated['price'].iloc[j]+concated['price'].iloc[j-1])*feerate)\n",
    "  changes['prper'].append(concated['price'].iloc[j]+concated['price'].iloc[j-1])\n",
    "  j+=1\n",
    "  \n",
    "  while(j<len(concated)):\n",
    "    if last_a['type'] == concated['type'].iloc[j]:\n",
    "      changes['price'].append(changes['price'][-1]-last_a['price']*last_a['type']+concated['price'].iloc[j]*concated['type'].iloc[j])\n",
    "      last_a = concated.iloc[j]\n",
    "      changes['time'].append(pd.to_datetime(last_a['time']))\n",
    "      changes['timestamp'].append(last_a['timestamp'])\n",
    "      changes['fee'].append((last_a['price']+last_b['price'])*feerate)\n",
    "      changes['prper'].append(last_a['price']+last_b['price'])\n",
    "    else:\n",
    "      changes['price'].append(changes['price'][-1]-last_b['price']*last_b['type']+concated['price'].iloc[j]*concated['type'].iloc[j])\n",
    "      last_b = concated.iloc[j]\n",
    "      changes['time'].append(pd.to_datetime(last_b['time']))\n",
    "      changes['timestamp'].append(last_b['timestamp'])\n",
    "      changes['fee'].append((last_a['price']+last_b['price'])*feerate)\n",
    "      changes['prper'].append(last_a['price']+last_b['price'])\n",
    "    #print(j)\n",
    "    j+=1\n",
    "\n",
    "changes = pd.DataFrame(changes)"
   ]
  },
  {
   "cell_type": "code",
   "execution_count": null,
   "metadata": {
    "colab": {
     "base_uri": "https://localhost:8080/",
     "height": 624
    },
    "id": "jfNaMnJEx59y",
    "outputId": "ce5bfbdf-d019-43dd-cb9a-145700eb6166"
   },
   "outputs": [],
   "source": [
    "plt.figure(figsize = (10,10))\n",
    "plt.plot(range((len(changes))),changes['price']/changes['fee'], color ='red')\n",
    "plt.grid()\n",
    "plt.title('Спреды по уровням в зависимости от времени')"
   ]
  },
  {
   "cell_type": "code",
   "execution_count": null,
   "metadata": {
    "colab": {
     "base_uri": "https://localhost:8080/"
    },
    "id": "lO3JmCDv5kKz",
    "outputId": "44480f4d-4659-4aeb-d44a-20058356e8dd"
   },
   "outputs": [],
   "source": [
    "#квантили\n",
    "hours = pd.date_range(start = '2021-07-06 00:00:00',end = '2021-07-10 00:00:00',freq = '15min')\n",
    "results = {'mean':[],'std':[],'minmax':[]}\n",
    "for i in range(len(hours[:-1])):\n",
    "  lch = changes[(changes['time']>=hours[i])&((changes['time']<hours[i+1]))]\n",
    "  results['mean'].append(np.mean(lch['price']/lch['fee']))\n",
    "  results['std'].append(np.std(lch['price']/lch['fee']))\n",
    "  results['minmax'].append((np.max(lch['price']/lch['fee'])-np.min(lch['price']/lch['fee'])))\n",
    "results = pd.DataFrame(results)\n",
    "#results = np.array(results['mean'].iloc[1:].to_list())-np.array(results['mean'].iloc[:-1].to_list())\n",
    "step = 0.05\n",
    "print(np.max(results['minmax']),np.std(results['minmax']))\n",
    "print(' q \\t   v')\n",
    "for i in np.arange(0,1,step):\n",
    "  print(np.around(i+step,2),'\\t',np.around(np.quantile(np.array(results['mean'].iloc[1:].to_list())-np.array(results['mean'].iloc[0:-1].to_list()),i+step),2))"
   ]
  },
  {
   "cell_type": "code",
   "execution_count": null,
   "metadata": {
    "colab": {
     "base_uri": "https://localhost:8080/"
    },
    "id": "0mRZJYUJ9NSG",
    "outputId": "44480f4d-4659-4aeb-d44a-20058356e8dd"
   },
   "outputs": [],
   "source": [
    "#квантили\n",
    "hours = pd.date_range(start = '2021-07-06 00:00:00',end = '2021-07-10 00:00:00',freq = '15min')\n",
    "results = {'mean':[],'std':[],'minmax':[]}\n",
    "for i in range(len(hours[:-1])):\n",
    "  lch = changes[(changes['time']>=hours[i])&((changes['time']<hours[i+1]))]\n",
    "  results['mean'].append(np.mean(lch['price']))\n",
    "  results['std'].append(np.std(lch['price']))\n",
    "  results['minmax'].append((np.max(lch['price'])-np.min(lch['price'])))\n",
    "results = pd.DataFrame(results)\n",
    "#results = np.array(results['mean'].iloc[1:].to_list())-np.array(results['mean'].iloc[:-1].to_list())\n",
    "step = 0.05\n",
    "print(np.max(results['minmax']),np.std(results['minmax']))\n",
    "print(' q \\t   v')\n",
    "for i in np.arange(0,1,step):\n",
    "  print(np.around(i+step,2),'\\t',np.around(np.quantile(np.array(results['mean'].iloc[1:].to_list())-np.array(results['mean'].iloc[0:-1].to_list()),i+step),2))"
   ]
  },
  {
   "cell_type": "code",
   "execution_count": null,
   "metadata": {
    "colab": {
     "base_uri": "https://localhost:8080/",
     "height": 625
    },
    "id": "XTYbgAPigmBu",
    "outputId": "cfedd4aa-56a9-49f0-d3c4-80448efa6125"
   },
   "outputs": [],
   "source": [
    "fees = []\n",
    "step = 0.25\n",
    "for i in np.arange(-4,4,step):\n",
    "  fees.append(len((changes[(changes['price']<changes['fee']*(i+step)) & (changes['price'] >= changes['fee']*i)]))/len(changes))\n",
    "plt.figure(figsize = (10,10))\n",
    "plt.plot(np.arange(-4,4,step),fees)\n",
    "plt.grid()\n",
    "plt.title('Распределение спреда в зависимости от доли от сборов')\n"
   ]
  },
  {
   "cell_type": "code",
   "execution_count": null,
   "metadata": {
    "colab": {
     "base_uri": "https://localhost:8080/"
    },
    "id": "1D5JyrQcrBPK",
    "outputId": "b31ecf9b-cbc6-401f-b2d0-8b5500cdaa60"
   },
   "outputs": [],
   "source": [
    "#абсолютные квантили\n",
    "print(np.mean(changes['price']/changes['fee']))\n",
    "print(np.std(changes['price']/changes['fee']))\n",
    "step = 0.05\n",
    "print(' q \\t   v')\n",
    "levels = {'квантиль':[], 'цена/сбор':[], 'цена абс.':[],'цена отн.':[]}\n",
    "for i in np.arange(0,1,step):\n",
    "  print(np.around(i+step,2),'\\t',np.around(np.quantile(changes['price']/changes['fee'],i+step),2))\n",
    "  levels['квантиль'].append(i+step)\n",
    "  levels['цена/сбор'].append(np.around(np.quantile(changes['price']/changes['fee'],i+step)))\n",
    "#print(' ')\n",
    "for i in np.arange(0,1,step):\n",
    "  print(np.around(i+step,2),'\\t',np.around(np.quantile(changes['price'],i+step),2))\n",
    "  levels['цена абс.'].append(np.around(np.quantile(changes['price'],i+step),2))\n",
    "#print(' ')\n",
    "for i in np.arange(0,1,step):\n",
    "  print(np.around(i+step,2),'\\t',np.around(np.quantile(changes['price']/changes['prper'],i+step),5))\n",
    "  levels['цена отн.'].append(np.around(np.quantile(changes['price']/changes['prper'],i+step),5))"
   ]
  },
  {
   "cell_type": "code",
   "execution_count": null,
   "metadata": {
    "id": "NZIeWYePEV9a"
   },
   "outputs": [],
   "source": [
    "hours = pd.date_range(start = '2021-07-06 00:00:00',end = '2021-07-10 00:00:00',freq = '1H')\n",
    "levels['1H абс.'] = []\n",
    "#levels['1H относ.'] = []\n",
    "for j in range(len(levels['цена абс.'])):\n",
    "  ka = []\n",
    "  kr = []\n",
    "  for t in range(len(hours)-1):\n",
    "    lch = changes[(changes['time']>=hours[t])&((changes['time']<hours[t+1]))]\n",
    "    ka.append(len(lch[lch['price']<=levels['цена абс.'][j]]))\n",
    "    kr.append(ka[-1]/len(lch))\n",
    "  levels['1H абс.'].append(np.around(np.mean(ka)))\n",
    "  #levels['1H относ.'].append(np.around(np.mean(kr),4))"
   ]
  },
  {
   "cell_type": "code",
   "execution_count": null,
   "metadata": {
    "colab": {
     "base_uri": "https://localhost:8080/"
    },
    "id": "C9xI9q20_9St",
    "outputId": "9c2619af-bf74-439d-bca9-88ad77879ddd"
   },
   "outputs": [],
   "source": [
    "levels['1H абс.']"
   ]
  },
  {
   "cell_type": "code",
   "execution_count": null,
   "metadata": {
    "id": "SYtPLt6RrJiX"
   },
   "outputs": [],
   "source": [
    "#тест Дики-Фуллера\n",
    "from statsmodels.tsa.stattools import adfuller\n",
    "adresults = []\n",
    "hours = pd.date_range(start = '2021-07-05 00:00:00',end = '2021-07-09 00:00:00',freq = '5h')\n",
    "\n",
    "for i in range(len(hours)-1):\n",
    "  a = changes[(changes['time']>=hours[i]) & (changes['time']<hours[i+1])]\n",
    "  if len(a)>0:\n",
    "   adresults.append(adfuller(a['price']/a['fee'], regression='c')[0])"
   ]
  },
  {
   "cell_type": "code",
   "execution_count": null,
   "metadata": {
    "colab": {
     "base_uri": "https://localhost:8080/"
    },
    "id": "hmZ5UDiLerzH",
    "outputId": "cd1cc5f3-c031-4276-ce1f-2bc9dbcd5c7f"
   },
   "outputs": [],
   "source": [
    "np.sum([i<-3.5 for i in adresults])/len(adresults)"
   ]
  },
  {
   "cell_type": "code",
   "execution_count": null,
   "metadata": {
    "colab": {
     "base_uri": "https://localhost:8080/"
    },
    "id": "9t9vNv1qbDOg",
    "outputId": "fb22977f-8457-4e47-f162-15e8d73c4d4d"
   },
   "outputs": [],
   "source": [
    "periods = [300, 600, 1200, 2400]\n",
    "thresholds = [1,1.2,1.4,1.6,1.8,2.0]\n",
    "for threshold in thresholds:\n",
    "  print('\\nпороговое значение:',threshold)\n",
    "  #print('период ск.средней', 'количество сделок', 'ср. профит', 'мин.профит', 'ср. время удержания')\n",
    "  for period in periods:\n",
    "    upper = []\n",
    "    lower = []\n",
    "    times = []\n",
    "    memento = 0\n",
    "    upperflag = False\n",
    "    lowerflag = False\n",
    "    consider = pd.DataFrame(changes['price']/changes['fee'])\n",
    "    consider['time'] = changes['time']\n",
    "    consider.columns = ['price','time']\n",
    "    sma = consider['price'].rolling(period).mean()\n",
    "    for i in range(period, len(consider)):\n",
    "      #print(consider.iloc[i]-sma.iloc[i])\n",
    "      if upperflag == False and consider['price'].iloc[i]-sma.iloc[i]>threshold:\n",
    "        tbeg = consider['time'].iloc[i]\n",
    "        #memento = consider['price'].iloc[i]\n",
    "        memento = sma.iloc[i]+threshold\n",
    "        upperflag = True\n",
    "      elif upperflag == True and consider['price'].iloc[i]-sma.iloc[i]<0:\n",
    "        times.append(consider['time'].iloc[i]-tbeg)\n",
    "        #upper.append(memento - consider['price'].iloc[i])\n",
    "        upper.append(memento - sma.iloc[i])\n",
    "        upperflag = False\n",
    "    print(period,'\\t', len(upper),'\\t', np.around(np.mean(upper),3),'\\t', np.around(np.min(upper),3), '\\t', np.mean(times))"
   ]
  },
  {
   "cell_type": "code",
   "execution_count": null,
   "metadata": {
    "colab": {
     "base_uri": "https://localhost:8080/"
    },
    "id": "uxEo4kv0si5s",
    "outputId": "2ab43638-4d32-4cf6-de52-fd88166621cb"
   },
   "outputs": [],
   "source": [
    "periods = [300, 600, 1200, 2400]\n",
    "thresholds = [1,1.2,1.4,1.6,1.8,2.0]\n",
    "for threshold in thresholds:\n",
    "  print('\\nпороговое значение:',threshold)\n",
    "  #print('период ск.средней', 'количество сделок', 'ср. профит', 'мин.профит', 'ср. время удержания')\n",
    "  for period in periods:\n",
    "    upper = []\n",
    "    lower = []\n",
    "    times = []\n",
    "    memento = 0\n",
    "    upperflag = False\n",
    "    lowerflag = False\n",
    "    consider = pd.DataFrame(changes['price']/changes['fee'])\n",
    "    consider['time'] = changes['time']\n",
    "    consider.columns = ['price','time']\n",
    "    sma = consider['price'].rolling(period).mean()\n",
    "    for i in range(period, len(consider)):\n",
    "      #print(consider.iloc[i]-sma.iloc[i])\n",
    "      if upperflag == False and consider['price'].iloc[i]-sma.iloc[i]<-threshold:\n",
    "        tbeg = consider['time'].iloc[i]\n",
    "        #memento = consider['price'].iloc[i]\n",
    "        memento = sma.iloc[i] - threshold\n",
    "        upperflag = True\n",
    "      elif upperflag == True and consider['price'].iloc[i]-sma.iloc[i]>0:\n",
    "        times.append(consider['time'].iloc[i]-tbeg)\n",
    "        #upper.append(-memento + consider['price'].iloc[i])\n",
    "        upper.append(-memento + sma.iloc[i])\n",
    "        upperflag = False\n",
    "    print(period,'\\t', len(upper),'\\t', np.around(np.mean(upper),3),'\\t', np.around(np.min(upper),3),'\\t', np.mean(times))"
   ]
  },
  {
   "cell_type": "code",
   "execution_count": null,
   "metadata": {
    "colab": {
     "base_uri": "https://localhost:8080/"
    },
    "id": "pvpF6AkZm_Y_",
    "outputId": "1351cbd0-2bf4-4227-c037-f45c1a4b27bf"
   },
   "outputs": [],
   "source": [
    "print(np.mean(upper), np.min(upper),len(upper), np.mean(times))"
   ]
  },
  {
   "cell_type": "code",
   "execution_count": null,
   "metadata": {
    "colab": {
     "base_uri": "https://localhost:8080/"
    },
    "id": "MHCywixWp62B",
    "outputId": "db5318a2-d548-418d-fd88-e7a552dc8345"
   },
   "outputs": [],
   "source": [
    "np.mean(times)"
   ]
  },
  {
   "cell_type": "markdown",
   "metadata": {
    "id": "mZ8w0V9dNdOm"
   },
   "source": [
    "# Трейдингвью, но спред считаем сами\n"
   ]
  },
  {
   "cell_type": "code",
   "execution_count": null,
   "metadata": {
    "colab": {
     "base_uri": "https://localhost:8080/"
    },
    "id": "s_63xpfRNhO0",
    "outputId": "6b6ccb26-2c4f-4da4-c65a-cddccd90a767"
   },
   "outputs": [],
   "source": [
    "BINANCE_candles = pd.read_csv(\"/content/gdrive/My Drive/Quant/data/tradingview/BINANCE_BTCU2021, 1 (3).csv\")\n",
    "DERIBIT_candles = pd.read_csv(\"/content/gdrive/My Drive/Quant/data/tradingview/DERIBIT_BTC24U21, 1 (1).csv\")\n",
    "dat = []\n",
    "for i in range(0,len(DERIBIT_candles)):\n",
    "  dat.append(pd.to_datetime(datetime.datetime.fromtimestamp(DERIBIT_candles['time'].iloc[i]).strftime('%Y-%m-%d %H:%M:%S')))\n",
    "DERIBIT_candles['datetime']=dat\n",
    "dat = []\n",
    "for i in range(0,len(BINANCE_candles)):\n",
    "  dat.append(pd.to_datetime(datetime.datetime.fromtimestamp(BINANCE_candles['time'].iloc[i]).strftime('%Y-%m-%d %H:%M:%S')))\n",
    "BINANCE_candles['datetime']=dat"
   ]
  },
  {
   "cell_type": "code",
   "execution_count": null,
   "metadata": {
    "id": "udk0hQjVOrwQ"
   },
   "outputs": [],
   "source": [
    "changes_high = []\n",
    "changes_low = []\n",
    "merged = pd.merge(DERIBIT_candles, BINANCE_candles, on = ['datetime'], suffixes = ['DER','BIN'])\n",
    "merged = merged[merged['datetime']>pd.to_datetime(\"2021-06-27\")]\n",
    "for i in range(len(merged)):\n",
    "  changes_high.append((merged['highDER'].iloc[i]-merged['highBIN'].iloc[i])/(merged['highDER'].iloc[i]*0.001+merged['highBIN'].iloc[i]*0.001))\n",
    "  changes_low.append((merged['lowDER'].iloc[i]-merged['lowBIN'].iloc[i])/(merged['lowDER'].iloc[i]*0.001+merged['lowBIN'].iloc[i]*0.001))\n",
    "  #changes.append(merged['open_DER'].iloc[i]-merged['close_BIN'].iloc[i])"
   ]
  },
  {
   "cell_type": "code",
   "execution_count": null,
   "metadata": {
    "colab": {
     "base_uri": "https://localhost:8080/",
     "height": 592
    },
    "id": "0UK6sBPrPHDR",
    "outputId": "17b2ad6b-b132-4d08-96fc-197e977bbe76"
   },
   "outputs": [],
   "source": [
    "plt.figure(figsize = (10,10))\n",
    "plt.plot(merged['datetime'],changes_high)\n",
    "plt.grid()\n",
    "#plt.plot(range(len(changes_low)),changes_low)"
   ]
  },
  {
   "cell_type": "code",
   "execution_count": null,
   "metadata": {
    "id": "kD-aQMX_T3xX"
   },
   "outputs": [],
   "source": [
    "num_mins = len(merged)\n",
    "results = {'mean':[],'std':[]}\n",
    "for t in range(0,num_mins,30):\n",
    "  d = []\n",
    "  for j in range(30):\n",
    "    try:\n",
    "      d.append((changes_high[j+t]+changes_low[j+t])/2)\n",
    "    except:\n",
    "      break\n",
    "  results['mean'].append(np.mean(d))\n",
    "  results['std'].append(np.std(d))\n",
    " # results.append((np.mean(d), np.std(d)))\n",
    "results = pd.DataFrame(results)"
   ]
  },
  {
   "cell_type": "code",
   "execution_count": null,
   "metadata": {
    "colab": {
     "base_uri": "https://localhost:8080/"
    },
    "id": "jmum5_juWRcp",
    "outputId": "0f0f97ad-fcb6-4667-9ca3-7364c9cb6fd4"
   },
   "outputs": [],
   "source": [
    "changes_high = []\n",
    "changes_low = []\n",
    "for i in range(len(merged)):\n",
    "  changes_high.append((merged['highDER'].iloc[i]-merged['highBIN'].iloc[i]))\n",
    "  if changes_high[-1]==0:\n",
    "    changes_high[-1]=0.001\n",
    "  changes_low.append((merged['lowDER'].iloc[i]-merged['lowBIN'].iloc[i]))\n",
    "deltas1 = (-np.array(changes_high[0:-2])+np.array(changes_high[1:-1]))/np.array(changes_high[0:-2])\n",
    "deltas2 = (-np.array(changes_high[1:-1])+np.array(changes_high[2:]))/np.array(changes_high[1:-1])\n",
    "np.corrcoef(deltas1,deltas2)"
   ]
  },
  {
   "cell_type": "code",
   "execution_count": null,
   "metadata": {
    "id": "xMHY3SH2WZro"
   },
   "outputs": [],
   "source": [
    "for i in changes_high:\n",
    "  if i==0:\n",
    "    print(i)"
   ]
  },
  {
   "cell_type": "code",
   "execution_count": null,
   "metadata": {
    "colab": {
     "base_uri": "https://localhost:8080/"
    },
    "id": "Dt0BS7DTW3YK",
    "outputId": "668cfb64-474d-47bb-eff1-d1b14b8a6ecc"
   },
   "outputs": [],
   "source": [
    "step = 0.05\n",
    "print(' q \\t   v')\n",
    "for i in np.arange(0,1,step):\n",
    "  print(np.around(i+step,2),'\\t',np.around(np.quantile(np.array(results['mean'].iloc[1:].to_list())-np.array(results['mean'].iloc[0:-1].to_list()),i+step),2))\n"
   ]
  },
  {
   "cell_type": "code",
   "execution_count": null,
   "metadata": {
    "colab": {
     "base_uri": "https://localhost:8080/"
    },
    "id": "OWTFXL6Kadau",
    "outputId": "554394ec-9279-409c-d09f-f67bac580afb"
   },
   "outputs": [],
   "source": [
    "np.array(results['mean'].iloc[1:].to_list())-np.array(results['mean'].iloc[0:-1].to_list())"
   ]
  },
  {
   "cell_type": "code",
   "execution_count": null,
   "metadata": {
    "colab": {
     "base_uri": "https://localhost:8080/"
    },
    "id": "lUsO8kZMav86",
    "outputId": "44accdce-bad5-49e6-b9ea-a08475f55f0b"
   },
   "outputs": [],
   "source": [
    "results['mean'].iloc[0:-1]"
   ]
  },
  {
   "cell_type": "markdown",
   "metadata": {
    "id": "M2gSAh8jviHv"
   },
   "source": [
    "# Трейдингвью, но спред"
   ]
  },
  {
   "cell_type": "code",
   "execution_count": null,
   "metadata": {
    "colab": {
     "base_uri": "https://localhost:8080/",
     "height": 432
    },
    "id": "fAxzOvBGvolz",
    "outputId": "99f93965-7569-4b92-a45d-777f6df1db1e"
   },
   "outputs": [],
   "source": [
    "SPREAD_candles = pd.read_csv(\"/content/gdrive/My Drive/Quant/data/tradingview/HUOBI_ETH24U2021-KRAKEN_ETHUSD24U, 1.csv\")\n",
    "dat = []\n",
    "for i in range(0,len(SPREAD_candles)):\n",
    "  dat.append(pd.to_datetime(datetime.datetime.fromtimestamp(SPREAD_candles['time'].iloc[i]).strftime('%Y-%m-%d %H:%M:%S')))\n",
    "SPREAD_candles['datetime']=dat\n",
    "SPREAD_candles[SPREAD_candles['datetime']>pd.to_datetime('2021-07-01')]"
   ]
  },
  {
   "cell_type": "code",
   "execution_count": null,
   "metadata": {
    "id": "qZycIwfxvxCf"
   },
   "outputs": [],
   "source": [
    "a = SPREAD_candles[['time','datetime','high']]\n",
    "b = SPREAD_candles[['time','datetime','low']]\n",
    "c = SPREAD_candles[['time','datetime','open']]\n",
    "d = SPREAD_candles[['time','datetime','close']]\n",
    "a.columns = ['time','datetime','price']\n",
    "b.columns = ['time','datetime','price']\n",
    "c.columns = ['time','datetime','price']\n",
    "d.columns = ['time','datetime','price']\n",
    "candles = pd.concat([a,b,c,d,])\n",
    "candles.sort_values('time',inplace = True)"
   ]
  },
  {
   "cell_type": "code",
   "execution_count": null,
   "metadata": {
    "id": "oE5kDzY5xsF9"
   },
   "outputs": [],
   "source": [
    "candles['rolling'] = candles['price'].rolling(4260).mean()\n",
    "candles['ewm'] = (candles['price'].ewm(alpha = 0.001).mean())"
   ]
  },
  {
   "cell_type": "code",
   "execution_count": null,
   "metadata": {
    "colab": {
     "base_uri": "https://localhost:8080/",
     "height": 410
    },
    "id": "Qzk43TkAv48u",
    "outputId": "81d3947e-a5c2-4e3c-fc0e-8786ed19bf05"
   },
   "outputs": [],
   "source": [
    "plt.plot(range(len(candles['datetime'])),candles['price'])\n",
    "plt.plot(range(len(candles['datetime'])),candles['ewm'])\n",
    "from statsmodels.tsa.stattools import adfuller\n",
    "adfuller(candles['price'],1)"
   ]
  },
  {
   "cell_type": "code",
   "execution_count": null,
   "metadata": {
    "colab": {
     "base_uri": "https://localhost:8080/"
    },
    "id": "xtpRRscLjxUa",
    "outputId": "7d00c9d8-9fe0-46c8-8bdd-1da886c02bf0"
   },
   "outputs": [],
   "source": [
    "#уровни\n",
    "step = 0.05\n",
    "print(' q \\t   v')\n",
    "levels = []\n",
    "quantiles = []\n",
    "for i in np.arange(0,1,step):\n",
    "  quantiles.append(np.around(i+step,2))\n",
    "  print(np.around(i+step,2),'\\t',np.around(np.quantile(candles['price'],i+step),4))\n",
    "  levels.append(np.quantile(candles['price'],i+step))"
   ]
  },
  {
   "cell_type": "code",
   "execution_count": null,
   "metadata": {
    "id": "gf6tGi_Ywmml"
   },
   "outputs": [],
   "source": [
    "hours = pd.date_range(start = '2021-07-01 00:00:00',end = '2021-07-10 00:00:00',freq = '1h')\n",
    "levels1h = []\n",
    "delta1h = []\n",
    "for j in levels:\n",
    "  k = []\n",
    "  for i in range(len(hours)-1):\n",
    "    a = candles[(candles['datetime']>=hours[i]) & (candles['datetime']<hours[i+1])]\n",
    "    k.append(len(a[a['price']<=j]))\n",
    "  levels1h.append(np.mean(k))"
   ]
  },
  {
   "cell_type": "code",
   "execution_count": null,
   "metadata": {
    "id": "CCqFmcxa3HKX"
   },
   "outputs": [],
   "source": [
    "hours = pd.date_range(start = '2021-07-01 00:00:00',end = '2021-07-10 00:00:00',freq = '24h')\n",
    "levels24h = []\n",
    "delta24h = []\n",
    "for j in levels:\n",
    "  k = []\n",
    "  for i in range(len(hours)-1):\n",
    "    a = candles[(candles['datetime']>=hours[i]) & (candles['datetime']<hours[i+1])]\n",
    "    k.append(len(a[a['price']<=j]))\n",
    "  levels24h.append(np.around(np.mean(k),2))"
   ]
  },
  {
   "cell_type": "code",
   "execution_count": null,
   "metadata": {
    "id": "6viE_md3QHPA"
   },
   "outputs": [],
   "source": [
    "hours = pd.date_range(start = '2021-07-01 00:00:00',end = '2021-07-10 00:00:00',freq = '168h')\n",
    "levels1w = []\n",
    "delta1w = []\n",
    "for j in levels:\n",
    "  k = []\n",
    "  c = []\n",
    "  for i in range(len(hours)-1):\n",
    "    a = candles[(candles['datetime']>=hours[i]) & (candles['datetime']<hours[i+1])]\n",
    "    k.append(len(a[a['price']<=j]))\n",
    "  levels1w.append(np.around(np.mean(k),2))\n"
   ]
  },
  {
   "cell_type": "code",
   "execution_count": null,
   "metadata": {
    "colab": {
     "base_uri": "https://localhost:8080/",
     "height": 662
    },
    "id": "vqTt6mWdQK2D",
    "outputId": "277039a4-c030-4d32-9fcc-cb5a58f4af49"
   },
   "outputs": [],
   "source": [
    "pd.DataFrame({'prob':quantiles, 'levels':levels, 'average 1h':levels1h, 'average 24h':levels24h, 'average 168h':levels1w})"
   ]
  }
 ],
 "metadata": {
  "colab": {
   "collapsed_sections": [],
   "name": "Spreads research.ipynb\"",
   "provenance": []
  },
  "kernelspec": {
   "display_name": "Python 3",
   "language": "python",
   "name": "python3"
  },
  "language_info": {
   "codemirror_mode": {
    "name": "ipython",
    "version": 3
   },
   "file_extension": ".py",
   "mimetype": "text/x-python",
   "name": "python",
   "nbconvert_exporter": "python",
   "pygments_lexer": "ipython3",
   "version": "3.7.4"
  }
 },
 "nbformat": 4,
 "nbformat_minor": 1
}
