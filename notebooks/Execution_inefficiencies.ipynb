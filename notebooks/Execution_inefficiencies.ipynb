{
 "cells": [
  {
   "cell_type": "code",
   "execution_count": null,
   "metadata": {
    "colab": {
     "base_uri": "https://localhost:8080/"
    },
    "id": "-xuqu6C_iihu",
    "outputId": "c2f914a9-5e44-4a0f-bc18-ded02e39f1fe"
   },
   "outputs": [],
   "source": [
    "import numpy as np\n",
    "import pandas as pd\n",
    "import matplotlib.pyplot as plt\n",
    "import seaborn"
   ]
  },
  {
   "cell_type": "code",
   "execution_count": null,
   "metadata": {
    "id": "wS5tJ0x0inQZ"
   },
   "outputs": [],
   "source": [
    "data = pd.read_excel('C:/Buffer/06-all-basis.xlsx')"
   ]
  },
  {
   "cell_type": "code",
   "execution_count": null,
   "metadata": {
    "colab": {
     "base_uri": "https://localhost:8080/",
     "height": 414
    },
    "id": "9ESJZXhz4q2C",
    "outputId": "e433bb6b-04a6-4b7c-a248-1a06a7482d5e"
   },
   "outputs": [],
   "source": [
    "data"
   ]
  },
  {
   "cell_type": "code",
   "execution_count": null,
   "metadata": {
    "id": "EsugoLd8jlmf"
   },
   "outputs": [],
   "source": [
    "uniq_names = data['StrategyName'].unique()\n",
    "uniq_strats = {}\n",
    "for i in uniq_names:\n",
    "  uniq_strats[i] = data[data['StrategyName'] == i]\n",
    "  uniq_strats[i]['TradeTime'] = uniq_strats[i]['TradeTime'].apply(pd.to_datetime)\n",
    "  uniq_strats[i].sort_values('TradeTime', ascending = False)\n",
    "  #uniq_strats[i]['Direction'].replace(to_replace = 'Sell', value = -1, inplace = True)\n",
    "  #uniq_strats[i]['Direction'].replace(to_replace = 'Buy', value = 1, inplace = True)\n",
    "  #uniq_strats[i]['Direction'] = uniq_strats[i]['Direction'].apply(int)\n",
    "  uniq_strats[i] = uniq_strats[i][(uniq_strats[i]['TradeTime']>=pd.to_datetime('2021-06-30'))&(uniq_strats[i]['TradeTime']<pd.to_datetime('2021-07-01'))]\n",
    "  #print(uniq_strats[i]['TradeTime'])\n",
    "  #print( uniq_strats[i]['Direction'])\n",
    "  #uniq_strats[i]['basis'] += np.max(uniq_strats[i]['basis'])+1"
   ]
  },
  {
   "cell_type": "code",
   "execution_count": null,
   "metadata": {
    "colab": {
     "base_uri": "https://localhost:8080/",
     "height": 238
    },
    "id": "Im45tnJdkNtw",
    "outputId": "134e4671-8be3-4dc9-a819-938cd12e5ec7"
   },
   "outputs": [],
   "source": [
    "Profits = {}\n",
    "feerate = 0.001\n",
    "for i in uniq_names:\n",
    "  if len(uniq_strats[i])==0:\n",
    "    continue\n",
    "  capital = [0]\n",
    "  avprices = [0]\n",
    "  profits = [0]\n",
    "  profit_times = [(uniq_strats[i].iloc[-1]['TradeTime'])]\n",
    "  volumes = [0]\n",
    "  therest = 0\n",
    "  counter = 0\n",
    "  for t in range(len(uniq_strats[i])-1, -1, -1): \n",
    "\n",
    "      if volumes[-1]>=0 and uniq_strats[i].iloc[t]['Direction'] > 0:\n",
    "        volumes.append(volumes[-1]+uniq_strats[i].iloc[t]['Volume'])\n",
    "        avprices.append(avprices[-1]*volumes[-2]/volumes[-1]+uniq_strats[i].iloc[t]['Volume']*uniq_strats[i].iloc[t]['basis']/volumes[-1])\n",
    "        continue\n",
    "      if volumes[-1]>0 and uniq_strats[i].iloc[t]['Direction'] < 0:\n",
    "        profit_times.append(uniq_strats[i].iloc[t]['TradeTime'])\n",
    "        volumes.append(volumes[-1]-uniq_strats[i].iloc[t]['Volume'])\n",
    "        if volumes[-1]<=0:\n",
    "          profits.append((uniq_strats[i].iloc[t]['basis']-avprices[-1])*volumes[-2])\n",
    "          avprices.append(-uniq_strats[i].iloc[t]['basis'])\n",
    "        else:\n",
    "          profits.append((uniq_strats[i].iloc[t]['basis']-avprices[-1])*uniq_strats[i].iloc[t]['Volume']) \n",
    "          avprices.append(avprices[-1])\n",
    "        continue\n",
    "\n",
    "      if volumes[-1]<=0 and uniq_strats[i].iloc[t]['Direction'] < 0:\n",
    "        volumes.append(volumes[-1]-uniq_strats[i].iloc[t]['Volume'])\n",
    "        avprices.append(avprices[-1]*volumes[-2]/volumes[-1]+uniq_strats[i].iloc[t]['Volume']*uniq_strats[i].iloc[t]['basis']/volumes[-1])\n",
    "        continue\n",
    "      if volumes[-1]<0 and uniq_strats[i].iloc[t]['Direction'] > 0:\n",
    "        profit_times.append(uniq_strats[i].iloc[t]['TradeTime'])\n",
    "        volumes.append(volumes[-1]+uniq_strats[i].iloc[t]['Volume'])\n",
    "        if volumes[-1]>=0:\n",
    "          profits.append((uniq_strats[i].iloc[t]['basis']+avprices[-1])*volumes[-2])\n",
    "          avprices.append(uniq_strats[i].iloc[t]['basis'])\n",
    "        else:\n",
    "          profits.append((-uniq_strats[i].iloc[t]['basis']-avprices[-1])*uniq_strats[i].iloc[t]['Volume'])\n",
    "          avprices.append(avprices[-1])\n",
    "        continue\n",
    "  uniq_strats[i]['avprices']=np.flip(avprices[1:])  \n",
    "  uniq_strats[i]['vols']=np.flip(volumes[1:])  \n",
    "  Profits[i] = pd.DataFrame({'times':pd.to_datetime(profit_times), 'profits':profits})\n",
    "\n",
    "  print(i)\n",
    "  print(Profits[i])"
   ]
  },
  {
   "cell_type": "code",
   "execution_count": null,
   "metadata": {
    "colab": {
     "base_uri": "https://localhost:8080/"
    },
    "id": "OOTCECU6lSEK",
    "outputId": "021581fd-be89-4e0c-a457-ccc23691fde4"
   },
   "outputs": [],
   "source": [
    "for i in uniq_names:\n",
    "  print(i,sum(Profits[i]['profits']))"
   ]
  },
  {
   "cell_type": "code",
   "execution_count": null,
   "metadata": {
    "colab": {
     "base_uri": "https://localhost:8080/",
     "height": 414
    },
    "id": "AZ9qED1XmG-k",
    "outputId": "74aaf7a4-f938-47ac-ab8a-5e5f171ac8fc"
   },
   "outputs": [],
   "source": [
    "Profits['ETH_USDT_SWAP_04%'][Profits['ETH_USDT_SWAP_04%']['times']>=pd.to_datetime('2021-06-30')]"
   ]
  },
  {
   "cell_type": "code",
   "execution_count": null,
   "metadata": {
    "colab": {
     "base_uri": "https://localhost:8080/",
     "height": 414
    },
    "id": "rJgO7pu42h-f",
    "outputId": "a8eff664-7426-431d-f2cb-79f4ff827063"
   },
   "outputs": [],
   "source": [
    "for i in uniq_names:\n",
    "  fo j"
   ]
  },
  {
   "cell_type": "code",
   "execution_count": null,
   "metadata": {
    "colab": {
     "base_uri": "https://localhost:8080/",
     "height": 441
    },
    "id": "XcG0ygjc3UE4",
    "outputId": "8721bd46-db56-432e-b5e8-04c9a9ecd8f6"
   },
   "outputs": [],
   "source": [
    "#np.mean(uniq_strats['ETH_USDT_SWAP_04%'][uniq_strats['ETH_USDT_SWAP_04%']['Direction']==-1]['basis'])\n",
    "plt.figure(figsize=(5,5))\n",
    "uniq_strats['ETH_USDT Bi-OK_0.1%']['basis'].iloc[np.argmax(uniq_strats['ETH_USDT Bi-OK_0.1%']['basis'])] = 0\n",
    "print(uniq_strats['ETH_USDT_SWAP_01%'][uniq_strats['ETH_USDT_SWAP_01%']['Direction']=='Buy']['basis'])\n",
    "seaborn.histplot(uniq_strats['ETH_USDT Bi-OK_0.1%'][uniq_strats['ETH_USDT Bi-OK_0.1%']['Direction']=='Buy']['basis'].iloc[:-1], bins = 50, color = 'blue')\n",
    "seaborn.histplot(uniq_strats['ETH_USDT Bi-OK_0.1%'][uniq_strats['ETH_USDT Bi-OK_0.1%']['Direction']=='Sell']['basis'].iloc[:-1], bins = 50, color = 'green')"
   ]
  },
  {
   "cell_type": "code",
   "execution_count": null,
   "metadata": {
    "colab": {
     "base_uri": "https://localhost:8080/"
    },
    "id": "8iw9oj7zvKE6",
    "outputId": "bc069f11-6872-4c43-a23f-219891af482f"
   },
   "outputs": [],
   "source": [
    "sum(uniq_strats['ETH sell'][-21:]['basis']*uniq_strats['ETH sell'][-21:]['Volume'])/sum(uniq_strats['ETH sell'][-21:]['Volume'])"
   ]
  },
  {
   "cell_type": "code",
   "execution_count": null,
   "metadata": {
    "id": "WOC00lttyl5c"
   },
   "outputs": [],
   "source": [
    "win = {}\n",
    "means = {}\n",
    "loose = {}\n",
    "names = []\n",
    "for i in uniq_names:\n",
    "  if len(uniq_strats[i])>0:\n",
    "    names.append(i)\n",
    "    win[i] = {'buy':[0,0],'sell':[0,0]}\n",
    "    k = uniq_strats[i][uniq_strats[i]['Direction'] == 'Buy']\n",
    "    if len(k)>0:\n",
    "      win[i]['buy'][0] = len(k[k['basis']>0])\n",
    "      win[i]['buy'][1] = len(k[k['basis']<=0])\n",
    "\n",
    "    k = uniq_strats[i][uniq_strats[i]['Direction'] == 'Sell']\n",
    "    if len(k)>0:\n",
    "      win[i]['sell'][0] = len(k[k['basis']>0])\n",
    "      win[i]['sell'][1] = len(k[k['basis']<=0])"
   ]
  },
  {
   "cell_type": "code",
   "execution_count": null,
   "metadata": {
    "colab": {
     "base_uri": "https://localhost:8080/"
    },
    "id": "QhhRUc7hDPyI",
    "outputId": "5f15afd8-3801-4dea-822d-65d1654e86ad"
   },
   "outputs": [],
   "source": [
    "for i in names:\n",
    "    print(i,'\\t', win[i]['buy'][0],'\\t',win[i]['buy'][1],'\\t',win[i]['sell'][0],'\\t',win[i]['sell'][1] )"
   ]
  }
 ],
 "metadata": {
  "colab": {
   "collapsed_sections": [],
   "name": "Execution inefficiencies.ipynb",
   "provenance": []
  },
  "kernelspec": {
   "display_name": "Python 3",
   "language": "python",
   "name": "python3"
  },
  "language_info": {
   "codemirror_mode": {
    "name": "ipython",
    "version": 3
   },
   "file_extension": ".py",
   "mimetype": "text/x-python",
   "name": "python",
   "nbconvert_exporter": "python",
   "pygments_lexer": "ipython3",
   "version": "3.7.4"
  }
 },
 "nbformat": 4,
 "nbformat_minor": 1
}
