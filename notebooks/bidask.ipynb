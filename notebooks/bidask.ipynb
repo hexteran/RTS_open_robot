{
 "cells": [
  {
   "cell_type": "code",
   "execution_count": null,
   "metadata": {
    "colab": {
     "base_uri": "https://localhost:8080/",
     "height": 547
    },
    "id": "4Y8rCitC_Y4f",
    "outputId": "31135695-1c8a-4ec7-83d8-99cf4e411fd8"
   },
   "outputs": [],
   "source": [
    "import pandas as pd\n",
    "import numpy as np\n",
    "from google.colab import drive\n",
    "import matplotlib.pyplot as plt\n",
    "import warnings\n",
    "warnings.filterwarnings('ignore')\n",
    "drive.mount('/content/gdrive')"
   ]
  },
  {
   "cell_type": "code",
   "execution_count": null,
   "metadata": {
    "id": "DCCEUOl7D1BR"
   },
   "outputs": [],
   "source": [
    "raw_data = pd.read_csv(\"/content/gdrive/My Drive/export.csv\", header = None)"
   ]
  },
  {
   "cell_type": "code",
   "execution_count": null,
   "metadata": {
    "colab": {
     "background_save": true
    },
    "id": "F2lkCjTLEKib"
   },
   "outputs": [],
   "source": [
    "uniq_names = raw_data[4].unique()\n",
    "orderbooks = {}\n",
    "for i in uniq_names:\n",
    "    orderbooks[i] = raw_data[raw_data[4] == i]\n",
    "    orderbooks[i].sort_values(3,inplace = True)\n",
    "  "
   ]
  },
  {
   "cell_type": "code",
   "execution_count": null,
   "metadata": {
    "colab": {
     "background_save": true
    },
    "id": "0SVb9n9NEuUL"
   },
   "outputs": [],
   "source": [
    "#computing St\n",
    "for i in orderbooks.keys():\n",
    "  new_col = orderbooks[i][6]*orderbooks[i][5]/(orderbooks[i][6]+orderbooks[i][8])\n",
    "  new_col += +orderbooks[i][8]*orderbooks[i][7]/(orderbooks[i][6]+orderbooks[i][8])\n",
    "  orderbooks[i]['St'] = new_col"
   ]
  },
  {
   "cell_type": "code",
   "execution_count": null,
   "metadata": {
    "colab": {
     "background_save": true
    },
    "id": "5W0lQjqmEw3y"
   },
   "outputs": [],
   "source": [
    "def write_agrs(t_span, names = orderbooks.keys()):\n",
    "  agr_orderbooks = {}\n",
    "  t_intervals = [(t,t+t_span) for t in range(min(raw_data[3]),max(raw_data[3])-t_span, t_span)]\n",
    "  for i in names:\n",
    "#    print(i)\n",
    "    buffer_dict={}\n",
    "    buffer_dict['intervals'] = []\n",
    "    buffer_dict['mins'] = []\n",
    "    buffer_dict['maxs'] = []\n",
    "    buffer_dict['open'] = []\n",
    "    buffer_dict['close'] = []\n",
    "    buffer_dict['rets'] = []\n",
    "    buffer_dict['mean'] = []\n",
    "    buffer_dict['std'] = []\n",
    "    buffer_dict['num_changes'] = []\n",
    "    for ts in t_intervals:\n",
    "      vals_for_period = orderbooks[i][(orderbooks[i][3]>=ts[0]) & (ts[1]>orderbooks[i][3])]\n",
    "      try:\n",
    "        mins = min(vals_for_period['St'])\n",
    "        maxs = max(vals_for_period['St'])\n",
    "        opens = vals_for_period['St'].iloc[0]\n",
    "        closes = vals_for_period['St'].iloc[-1]\n",
    "        returns = closes/opens - 1\n",
    "        stds = np.std(vals_for_period['St'])\n",
    "        means = np.mean(vals_for_period['St'])\n",
    "      except:\n",
    "        mins = maxs = opens = closes = means = stds = returns = None\n",
    "      buffer_dict['intervals'].append(ts[1])\n",
    "      buffer_dict['maxs'].append(maxs)\n",
    "      buffer_dict['mins'].append(mins)\n",
    "      buffer_dict['open'].append(opens)\n",
    "      buffer_dict['close'].append(closes)\n",
    "      buffer_dict['rets'].append(returns)\n",
    "      buffer_dict['mean'].append(means)\n",
    "      buffer_dict['std'].append(stds)\n",
    "      buffer_dict['num_changes'].append(len(vals_for_period))\n",
    "    agr_orderbooks[i] = pd.DataFrame.from_dict(buffer_dict)\n",
    "  return agr_orderbooks\n",
    "    "
   ]
  },
  {
   "cell_type": "code",
   "execution_count": null,
   "metadata": {
    "colab": {
     "background_save": true
    },
    "id": "W7CwF2xvcRgp"
   },
   "outputs": [],
   "source": [
    "agr_orderbooks_5min = write_agrs(300000)\n",
    "\n",
    "returns = {}\n",
    "for i in agr_orderbooks_5min.keys():\n",
    "  returns[i] = (agr_orderbooks_5min[i]['rets']).to_list()\n",
    "dfreturns = pd.DataFrame.from_dict(returns)\n",
    "\n",
    "corr_matrix = dfreturns.corr()\n",
    "most_correlated_5mins = []\n",
    "least_correlated_5mins = []\n",
    "j = 0\n",
    "for i in corr_matrix.columns:\n",
    "  least_correlated_5mins.append((i,corr_matrix.columns[corr_matrix[i].argmin()],corr_matrix[i].min()))\n",
    "  corr_matrix[i].iloc[j] = 0\n",
    "  j+=1\n",
    "  most_correlated_5mins.append((i,corr_matrix.columns[corr_matrix[i].argmax()],corr_matrix[i].max()))"
   ]
  },
  {
   "cell_type": "code",
   "execution_count": null,
   "metadata": {
    "colab": {
     "background_save": true
    },
    "id": "DfoRXPXEmLuy"
   },
   "outputs": [],
   "source": [
    "agr_orderbooks_1min = write_agrs(60000)\n",
    "\n",
    "returns = {}\n",
    "for i in agr_orderbooks_1min.keys():\n",
    "  returns[i] = (agr_orderbooks_1min[i]['rets']).to_list()\n",
    "dfreturns = pd.DataFrame.from_dict(returns)\n",
    "\n",
    "corr_matrix = dfreturns.corr()\n",
    "most_correlated_1mins = []\n",
    "least_correlated_1mins = []\n",
    "j = 0\n",
    "for i in corr_matrix.columns:\n",
    "  least_correlated_1mins.append((i,corr_matrix.columns[corr_matrix[i].argmin()],corr_matrix[i].min()))\n",
    "  corr_matrix[i].iloc[j] = 0\n",
    "  j+=1\n",
    "  most_correlated_1mins.append((i,corr_matrix.columns[corr_matrix[i].argmax()],corr_matrix[i].max()))"
   ]
  },
  {
   "cell_type": "code",
   "execution_count": null,
   "metadata": {
    "colab": {
     "background_save": true
    },
    "id": "i3BI1qiW4D-r",
    "outputId": "c65f05b7-3aac-49c1-b650-fb68ba336dd5"
   },
   "outputs": [],
   "source": [
    "returns = {}\n",
    "for i in agr_orderbooks_1min.keys():\n",
    "  returns[i] = (agr_orderbooks_1min[i]['rets']).to_list()\n",
    "dfreturns = pd.DataFrame.from_dict(returns)\n",
    "\n",
    "corr_matrix = dfreturns.corr()\n",
    "more95corr = []\n",
    "for i in corr_matrix.columns:\n",
    "  ka = []\n",
    "  for j in range(len(corr_matrix)):\n",
    "    if 1>corr_matrix[i].iloc[j]>0.95:\n",
    "     # print(i,corr_matrix.columns[j])\n",
    "      ka.append(j)\n",
    "  for j in ka:\n",
    "    more95corr.append((i,corr_matrix.columns[j]))\n",
    "more95corr = ([frozenset(j) for j in more95corr])\n",
    "more95corr = list(set(map(tuple,more95corr)))\n",
    "print(more95corr)"
   ]
  },
  {
   "cell_type": "code",
   "execution_count": null,
   "metadata": {
    "colab": {
     "background_save": true
    },
    "id": "M3fLGM_LrmwG",
    "outputId": "cf93374b-0a44-41e9-eb65-55efa0672813"
   },
   "outputs": [],
   "source": [
    "for i in more95corr:\n",
    "  print('в', i[0],'совершается в среднем в',\n",
    "        np.mean(agr_orderbooks_5min[i[0]]['num_changes'])/np.mean(agr_orderbooks_5min[i[1]]['num_changes']),\n",
    "        'раз больше транзакций, чем в', i[1], 'при',np.mean(agr_orderbooks_5min[i[0]]['num_changes'])/300,'тр/c в',i[0])\n",
    "names_to_check = []\n",
    "for i in more95corr:\n",
    "  if i[0] not in names_to_check:\n",
    "    names_to_check.append(i[0])\n",
    "  if i[1] not in names_to_check:\n",
    "    names_to_check.append(i[1])"
   ]
  },
  {
   "cell_type": "code",
   "execution_count": null,
   "metadata": {
    "colab": {
     "background_save": true
    },
    "id": "ixqJAPdNutVp"
   },
   "outputs": [],
   "source": [
    "agr_orderbooks_10secs = write_agrs(10000, names = names_to_check)"
   ]
  },
  {
   "cell_type": "code",
   "execution_count": null,
   "metadata": {
    "colab": {
     "background_save": true
    },
    "id": "JweBsQM_av_x"
   },
   "outputs": [],
   "source": [
    "agr_orderbooks_5secs = write_agrs(5000, names = names_to_check)"
   ]
  },
  {
   "cell_type": "code",
   "execution_count": null,
   "metadata": {
    "colab": {
     "background_save": true
    },
    "id": "kkQJKnQiqrPZ"
   },
   "outputs": [],
   "source": [
    "agr_orderbooks_2secs = write_agrs(2000, names = names_to_check)"
   ]
  },
  {
   "cell_type": "markdown",
   "metadata": {
    "id": "-t7u3gTC6I-v"
   },
   "source": [
    "# Первичный рынок vs вторичный"
   ]
  },
  {
   "cell_type": "code",
   "execution_count": null,
   "metadata": {
    "id": "DLBRBqPd6MIC"
   },
   "outputs": [],
   "source": [
    "pairs = [('BTCBUSD','ETHUSDT')]#,('ETHUSDT_210625','ETHUSDT'),('BTCBUSD','BTCUSDT_210625'),('BTCUSDT','BTCUSDT_210625')]\n",
    "\n",
    "for p in pairs:\n",
    "  one = agr_orderbooks_5secs[p[0]]\n",
    "  two = agr_orderbooks_5secs[p[1]]\n",
    "  one = one[(one['num_changes']>0)&(one['rets']!=0)]\n",
    "  two = two[(two['num_changes']>0)&(two['rets']!=0)]\n",
    "  res = two.merge(one,how='inner',on=['intervals'], suffixes=['_two','_one'])[['rets_one','rets_two']]\n",
    "\n",
    "  a = (res['rets_two'].iloc[1:-1])\n",
    "  b = res['rets_one'].iloc[2:]\n",
    "  a1 = (res['rets_two'].iloc[1:-1])/(res['rets_two'].iloc[1:-1]).apply(lambda x: abs(x))\n",
    "  b1 = res['rets_one'].iloc[2:]/(res['rets_one'].iloc[2:]).apply(lambda x: abs(x))\n",
    "  sum = 0\n",
    "  for i in range(0,len(a1)):\n",
    "    sum+=a1.iloc[i]*b1.iloc[i]\n",
    "  print(p[1],'=>',p[0])\n",
    "  print(sum/len(a1),np.corrcoef(a1,b1)[0,1],np.corrcoef(a,b)[0,1])\n",
    "  print(\"volatility fraction:\", np.std(a)/np.std(b))\n",
    "\n",
    "  a = (res['rets_one'].iloc[1:-1])\n",
    "  b = res['rets_two'].iloc[2:]\n",
    "  a1 = (res['rets_one'].iloc[1:-1])/(res['rets_one'].iloc[1:-1]).apply(lambda x: abs(x))\n",
    "  b1 = res['rets_two'].iloc[2:]/(res['rets_two'].iloc[2:]).apply(lambda x: abs(x))\n",
    "  sum = 0\n",
    "  for i in range(0,len(a1)):\n",
    "    sum+=a1.iloc[i]*b1.iloc[i]\n",
    "\n",
    "  print(p[0],'=>',p[1])\n",
    "  print(sum/len(a1),np.corrcoef(a1,b1)[0,1],np.corrcoef(a,b)[0,1])\n",
    "  print(\"volatility fraction:\", np.std(a)/np.std(b),'\\n')"
   ]
  },
  {
   "cell_type": "markdown",
   "metadata": {
    "id": "D7W00DA64fSM"
   },
   "source": [
    "# Автокорреляция"
   ]
  },
  {
   "cell_type": "code",
   "execution_count": null,
   "metadata": {
    "id": "ScuSDHJhBT0R"
   },
   "outputs": [],
   "source": [
    "insts = ['BTCBUSD','BTCUSDT','ETHUSDT_210625','ETHUSDT','BTCUSDT_210625']\n",
    "vals = {}\n",
    "for p in insts:\n",
    "  one = agr_orderbooks_5min[p]\n",
    "  vals[p] = []\n",
    "  one = one[(one['num_changes']>0)&(one['rets']!=0)]\n",
    "  for i in range(1,5):\n",
    "    a = one['rets'].iloc[:-i]\n",
    "    b = one['rets'].iloc[i:]\n",
    "    vals[p].append(np.corrcoef(a,b)[0,1])\n",
    "    #print(p,':',np.corrcoef(a,b)[0,1])\n"
   ]
  },
  {
   "cell_type": "code",
   "execution_count": null,
   "metadata": {
    "colab": {
     "base_uri": "https://localhost:8080/",
     "height": 1000
    },
    "id": "N1pdizPnib6Y",
    "outputId": "c80c8c2a-7f1d-4a8b-9df3-a89727a345f9"
   },
   "outputs": [],
   "source": [
    "n = len(insts)\n",
    "i = 0\n",
    "print(n)\n",
    "fig, ax = plt.subplots(n)\n",
    "fig.set_size_inches(5,4*n)\n",
    "for p in insts:\n",
    "  ax[i].bar(range(1,5), vals[p])\n",
    "  ax[i].set_title(p)\n",
    "  ax[i].grid()\n",
    "  i+=1"
   ]
  },
  {
   "cell_type": "markdown",
   "metadata": {
    "id": "K8w83XMj4llC"
   },
   "source": [
    "# Отскок"
   ]
  },
  {
   "cell_type": "code",
   "execution_count": null,
   "metadata": {
    "id": "sVMrA7JDUlFY"
   },
   "outputs": [],
   "source": [
    "bid_meanvols = {}\n",
    "bid_stdvols = {}\n",
    "ask_meanvols = {}\n",
    "ask_stdvols = {}\n",
    "for p in insts:\n",
    "  bid_meanvols[p] = np.mean(orderbooks[p][6]) \n",
    "  bid_stdvols[p] = np.std(orderbooks[p][6])\n",
    "  ask_meanvols[p] = np.mean(orderbooks[p][8]) \n",
    "  ask_stdvols[p] = np.std(orderbooks[p][8])\n"
   ]
  },
  {
   "cell_type": "code",
   "execution_count": null,
   "metadata": {
    "colab": {
     "base_uri": "https://localhost:8080/"
    },
    "id": "LmMmb7ayfh4V",
    "outputId": "498223cb-95fe-40f2-83ac-920145bffbfd"
   },
   "outputs": [],
   "source": [
    "#вероятности для бида + средний экстремум\n",
    "Pr = {}\n",
    "dextr = {}\n",
    "for p in insts:\n",
    "  Pr[p] = []\n",
    "  dextr[p] = {'mean':[],'std':[], 'median':[]}\n",
    "  for k in np.arange(0,3,0.5):\n",
    "    pn = 0\n",
    "    p0 = 0\n",
    "    delta_extremums = []\n",
    "    for i in range(len(orderbooks[p])-1):\n",
    "      if orderbooks[p][6].iloc[i] >= bid_meanvols[p]+k*bid_stdvols[p]:\n",
    "        j = i+1\n",
    "        #orderbooks[p][5].iloc[i]\n",
    "        while orderbooks[p][5].iloc[j]==orderbooks[p][5].iloc[i] and j<len(orderbooks[p])-1:\n",
    "          j+=1\n",
    "        if orderbooks[p][5].iloc[j]>orderbooks[p][5].iloc[i]:\n",
    "          pn+=1\n",
    "          while orderbooks[p][5].iloc[j]>=orderbooks[p][5].iloc[j-1] and j<len(orderbooks[p])-2:\n",
    "            j+=1\n",
    "          delta_extremums.append(orderbooks[p][5].iloc[j-1]/orderbooks[p][5].iloc[i]-1)\n",
    "        else:\n",
    "          p0+=1\n",
    "    dextr[p]['mean'].append(np.mean(delta_extremums))\n",
    "    dextr[p]['std'].append(np.std(delta_extremums))\n",
    "    dextr[p]['median'].append(np.median(delta_extremums))\n",
    "    Pr[p].append(pn/(p0+pn))\n",
    "    print(p,k,\":\",pn/(p0+pn), dextr[p]['mean'][-1])"
   ]
  },
  {
   "cell_type": "code",
   "execution_count": null,
   "metadata": {
    "colab": {
     "base_uri": "https://localhost:8080/"
    },
    "id": "1hNT0Th2wuxI",
    "outputId": "1b39c544-3a2e-4025-ebed-a924ec63b9f8"
   },
   "outputs": [],
   "source": [
    "#доля плотных объемов во всем датасете\n",
    "count_vols = {}\n",
    "for p in insts:\n",
    "  count_vols[p]=[]\n",
    "  for k in np.arange(0,3,0.5):\n",
    "      count_vols[p].append(len(orderbooks[p][6][orderbooks[p][6]>=bid_meanvols[p]+k*bid_stdvols[p]])/len(orderbooks[p][6]))\n",
    "      print(p,k,':',len(orderbooks[p][6][orderbooks[p][6]>=bid_meanvols[p]+k*bid_stdvols[p]])/len(orderbooks[p][6]))"
   ]
  },
  {
   "cell_type": "markdown",
   "metadata": {
    "id": "hDSaOwn4C53h"
   },
   "source": [
    "# Графики (бид)"
   ]
  },
  {
   "cell_type": "markdown",
   "metadata": {
    "id": "8sop7lX3yVJg"
   },
   "source": [
    "первый график - вероятность отскока на одно ценовое деление\n",
    "\n",
    "второй - как далеко в среднем происходит отскок\n",
    "\n",
    "третий - то же самое, но стандартное отклонение\n",
    "\n",
    "четвертый - то же самое, но медиана\n",
    "\n",
    "пятый - доля плотных уровней при разных k"
   ]
  },
  {
   "cell_type": "code",
   "execution_count": null,
   "metadata": {
    "colab": {
     "base_uri": "https://localhost:8080/",
     "height": 993
    },
    "id": "1KuzIz0qw0s7",
    "outputId": "27206304-1e9f-44c6-c7f1-dd3a16eac3de"
   },
   "outputs": [],
   "source": [
    "#вероятности\n",
    "i = 0\n",
    "fig, ax = plt.subplots(len(insts),5)\n",
    "fig.set_size_inches(25,4*len(insts))\n",
    "for p in insts:\n",
    "  ax[i][0].plot(np.arange(0,3,0.5), Pr[p])\n",
    "  ax[i][1].plot(np.arange(0,3,0.5), dextr[p]['mean'])\n",
    "  ax[i][2].plot(np.arange(0,3,0.5), dextr[p]['std'])\n",
    "  ax[i][3].plot(np.arange(0,3,0.5), dextr[p]['median'])\n",
    "  ax[i][4].plot(np.arange(0,3,0.5), count_vols[p])\n",
    "  ax[i][0].set_title(p+' probability')\n",
    "  ax[i][1].set_title(p+' mean extr')\n",
    "  ax[i][2].set_title(p+' std extr')\n",
    "  ax[i][3].set_title(p+' median extr')\n",
    "  ax[i][4].set_title(p+' vol ratio')\n",
    "  ax[i][0].grid()\n",
    "  ax[i][1].grid()\n",
    "  ax[i][2].grid()\n",
    "  ax[i][3].grid()\n",
    "  ax[i][4].grid()\n",
    "  i+=1"
   ]
  },
  {
   "cell_type": "code",
   "execution_count": null,
   "metadata": {
    "colab": {
     "base_uri": "https://localhost:8080/"
    },
    "id": "EdHduDQVDpN3",
    "outputId": "c90dd064-3ef4-407b-a9e4-88e895b13151"
   },
   "outputs": [],
   "source": [
    "#вероятности для аска + средний экстремум и отклонение этих экстремумов\n",
    "insts = ['BTCBUSD','BTCUSDT','ETHUSDT_210625','ETHUSDT','BTCUSDT_210625']\n",
    "Pr = {}\n",
    "dextr = {}\n",
    "for p in insts:\n",
    "  Pr[p] = []\n",
    "  dextr[p] = {'mean':[],'std':[],'median':[]}\n",
    "  for k in np.arange(0,3,0.5):\n",
    "    pn = 0\n",
    "    p0 = 0\n",
    "    delta_extremums = []\n",
    "    for i in range(len(orderbooks[p])-1):\n",
    "      if orderbooks[p][8].iloc[i] >= ask_meanvols[p]+k*ask_stdvols[p]:\n",
    "        j = i+1\n",
    "        #orderbooks[p][5].iloc[i]\n",
    "        while orderbooks[p][7].iloc[j]==orderbooks[p][7].iloc[i] and j<len(orderbooks[p])-2:\n",
    "          j+=1\n",
    "        if orderbooks[p][7].iloc[j]<orderbooks[p][7].iloc[i]:\n",
    "          pn+=1\n",
    "          while orderbooks[p][7].iloc[j]<=orderbooks[p][7].iloc[j-1] and j<len(orderbooks[p])-2:\n",
    "            j+=1\n",
    "          delta_extremums.append(-orderbooks[p][7].iloc[j-1]/orderbooks[p][7].iloc[i]+1)\n",
    "        else:\n",
    "          p0+=1\n",
    "    dextr[p]['mean'].append(np.mean(delta_extremums))\n",
    "    dextr[p]['median'].append(np.median(delta_extremums)) \n",
    "    dextr[p]['std'].append(np.std(delta_extremums))\n",
    "    Pr[p].append(pn/(p0+pn))\n",
    "    print(p,k,\":\",pn/(p0+pn), dextr[p]['mean'][-1])"
   ]
  },
  {
   "cell_type": "markdown",
   "metadata": {
    "id": "uDlOe86QDFKG"
   },
   "source": [
    "# Графики(аск)"
   ]
  },
  {
   "cell_type": "code",
   "execution_count": null,
   "metadata": {
    "colab": {
     "base_uri": "https://localhost:8080/"
    },
    "id": "uPwqNLIiTqpP",
    "outputId": "d859751f-a137-4fea-d456-5049e358fef8"
   },
   "outputs": [],
   "source": [
    "i = 0\n",
    "fig, ax = plt.subplots(len(insts),5)\n",
    "fig.set_size_inches(25,4*len(insts))\n",
    "for p in insts:\n",
    "  ax[i][0].plot(np.arange(0,3,0.5), Pr[p])\n",
    "  ax[i][1].plot(np.arange(0,3,0.5), dextr[p]['mean'])\n",
    "  ax[i][2].plot(np.arange(0,3,0.5), dextr[p]['std'])\n",
    "  ax[i][3].plot(np.arange(0,3,0.5), dextr[p]['median'])\n",
    "  ax[i][4].plot(np.arange(0,3,0.5), count_vols[p])\n",
    "  ax[i][0].set_title(p+' probability')\n",
    "  ax[i][1].set_title(p+' mean extr')\n",
    "  ax[i][2].set_title(p+' std extr')\n",
    "  ax[i][3].set_title(p+' median extr')\n",
    "  ax[i][4].set_title(p+' vol ratio')\n",
    "  ax[i][0].grid()\n",
    "  ax[i][1].grid()\n",
    "  ax[i][2].grid()\n",
    "  ax[i][3].grid()\n",
    "  ax[i][4].grid()\n",
    "  i+=1"
   ]
  },
  {
   "cell_type": "code",
   "execution_count": null,
   "metadata": {
    "id": "31TZMZ1vixXr"
   },
   "outputs": [],
   "source": []
  }
 ],
 "metadata": {
  "colab": {
   "collapsed_sections": [],
   "name": "bidask.ipynb",
   "provenance": []
  },
  "kernelspec": {
   "display_name": "Python 3",
   "language": "python",
   "name": "python3"
  },
  "language_info": {
   "codemirror_mode": {
    "name": "ipython",
    "version": 3
   },
   "file_extension": ".py",
   "mimetype": "text/x-python",
   "name": "python",
   "nbconvert_exporter": "python",
   "pygments_lexer": "ipython3",
   "version": "3.7.4"
  }
 },
 "nbformat": 4,
 "nbformat_minor": 1
}
